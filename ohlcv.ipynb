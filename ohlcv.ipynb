{
 "cells": [
  {
   "cell_type": "code",
   "execution_count": 2,
   "id": "b405a72b",
   "metadata": {},
   "outputs": [
    {
     "name": "stderr",
     "output_type": "stream",
     "text": [
      "/Users/Sugi/Library/Python/3.9/lib/python/site-packages/urllib3/__init__.py:35: NotOpenSSLWarning: urllib3 v2 only supports OpenSSL 1.1.1+, currently the 'ssl' module is compiled with 'LibreSSL 2.8.3'. See: https://github.com/urllib3/urllib3/issues/3020\n",
      "  warnings.warn(\n"
     ]
    }
   ],
   "source": [
    "# we are importing the necessary libaries \n",
    "from datetime import datetime, timedelta\n",
    "\n",
    "import pandas as pd\n",
    "from openbb import obb\n"
   ]
  },
  {
   "cell_type": "code",
   "execution_count": 10,
   "id": "6c032059",
   "metadata": {},
   "outputs": [
    {
     "data": {
      "text/html": [
       "<div>\n",
       "<style scoped>\n",
       "    .dataframe tbody tr th:only-of-type {\n",
       "        vertical-align: middle;\n",
       "    }\n",
       "\n",
       "    .dataframe tbody tr th {\n",
       "        vertical-align: top;\n",
       "    }\n",
       "\n",
       "    .dataframe thead th {\n",
       "        text-align: right;\n",
       "    }\n",
       "</style>\n",
       "<table border=\"1\" class=\"dataframe\">\n",
       "  <thead>\n",
       "    <tr style=\"text-align: right;\">\n",
       "      <th></th>\n",
       "      <th>open</th>\n",
       "      <th>high</th>\n",
       "      <th>low</th>\n",
       "      <th>close</th>\n",
       "      <th>volume</th>\n",
       "      <th>vwap</th>\n",
       "      <th>adj_close</th>\n",
       "      <th>unadjusted_volume</th>\n",
       "      <th>change</th>\n",
       "      <th>change_percent</th>\n",
       "    </tr>\n",
       "    <tr>\n",
       "      <th>date</th>\n",
       "      <th></th>\n",
       "      <th></th>\n",
       "      <th></th>\n",
       "      <th></th>\n",
       "      <th></th>\n",
       "      <th></th>\n",
       "      <th></th>\n",
       "      <th></th>\n",
       "      <th></th>\n",
       "      <th></th>\n",
       "    </tr>\n",
       "  </thead>\n",
       "  <tbody>\n",
       "    <tr>\n",
       "      <th>2024-06-17</th>\n",
       "      <td>542.08</td>\n",
       "      <td>548.53</td>\n",
       "      <td>541.61</td>\n",
       "      <td>547.1</td>\n",
       "      <td>55909364</td>\n",
       "      <td>544.83</td>\n",
       "      <td>540.23</td>\n",
       "      <td>55909364.0</td>\n",
       "      <td>5.02</td>\n",
       "      <td>0.009261</td>\n",
       "    </tr>\n",
       "  </tbody>\n",
       "</table>\n",
       "</div>"
      ],
      "text/plain": [
       "              open    high     low  close    volume    vwap  adj_close  \\\n",
       "date                                                                     \n",
       "2024-06-17  542.08  548.53  541.61  547.1  55909364  544.83     540.23   \n",
       "\n",
       "            unadjusted_volume  change  change_percent  \n",
       "date                                                   \n",
       "2024-06-17         55909364.0    5.02        0.009261  "
      ]
     },
     "execution_count": 10,
     "metadata": {},
     "output_type": "execute_result"
    }
   ],
   "source": [
    "# extracting and printing 1 row of ohlcv\n",
    "obb.user.credentials.fmp_api_key = \"JI198J9ADpdcD2yJ4kd8Zl0RAP1goenk\"\n",
    "df_daily = obb.equity.price.historical(symbol=\"spy\", provider=\"fmp\")\n",
    "df_daily.to_df().head(1)"
   ]
  }
 ],
 "metadata": {
  "kernelspec": {
   "display_name": "Python 3",
   "language": "python",
   "name": "python3"
  },
  "language_info": {
   "codemirror_mode": {
    "name": "ipython",
    "version": 3
   },
   "file_extension": ".py",
   "mimetype": "text/x-python",
   "name": "python",
   "nbconvert_exporter": "python",
   "pygments_lexer": "ipython3",
   "version": "3.9.6"
  }
 },
 "nbformat": 4,
 "nbformat_minor": 5
}
