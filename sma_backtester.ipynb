{
 "cells": [
  {
   "cell_type": "code",
   "execution_count": 2,
   "id": "cdf29eaa",
   "metadata": {},
   "outputs": [
    {
     "name": "stdout",
     "output_type": "stream",
     "text": [
      "Defaulting to user installation because normal site-packages is not writeable\n",
      "Collecting backtrader\n",
      "  Downloading backtrader-1.9.78.123-py2.py3-none-any.whl (419 kB)\n",
      "\u001b[K     |████████████████████████████████| 419 kB 1.8 MB/s eta 0:00:01\n",
      "\u001b[?25hInstalling collected packages: backtrader\n",
      "Successfully installed backtrader-1.9.78.123\n",
      "\u001b[33mWARNING: You are using pip version 21.2.4; however, version 25.1.1 is available.\n",
      "You should consider upgrading via the '/Library/Developer/CommandLineTools/usr/bin/python3 -m pip install --upgrade pip' command.\u001b[0m\n",
      "Note: you may need to restart the kernel to use updated packages.\n"
     ]
    }
   ],
   "source": [
    "pip install backtrader"
   ]
  },
  {
   "cell_type": "code",
   "execution_count": 10,
   "id": "8e8c0fe1",
   "metadata": {},
   "outputs": [
    {
     "name": "stderr",
     "output_type": "stream",
     "text": [
      "/var/folders/qw/7xnsjt4n41z_t0qbcc21j_j80000gn/T/ipykernel_2955/4283044402.py:32: FutureWarning: ChainedAssignmentError: behaviour will change in pandas 3.0!\n",
      "You are setting values through chained assignment. Currently this works in certain cases, but when using Copy-on-Write (which will become the default behaviour in pandas 3.0) this will never work to update the original DataFrame or Series, because the intermediate object on which we are setting values will behave as a copy.\n",
      "A typical example is when you are setting values in a column of a DataFrame, like:\n",
      "\n",
      "df[\"col\"][row_indexer] = value\n",
      "\n",
      "Use `df.loc[row_indexer, \"col\"] = values` instead, to perform the assignment in a single step and ensure this keeps updating the original `df`.\n",
      "\n",
      "See the caveats in the documentation: https://pandas.pydata.org/pandas-docs/stable/user_guide/indexing.html#returning-a-view-versus-a-copy\n",
      "\n",
      "  data['Signal'][long_window:] = np.where(\n",
      "/var/folders/qw/7xnsjt4n41z_t0qbcc21j_j80000gn/T/ipykernel_2955/4283044402.py:32: SettingWithCopyWarning: \n",
      "A value is trying to be set on a copy of a slice from a DataFrame\n",
      "\n",
      "See the caveats in the documentation: https://pandas.pydata.org/pandas-docs/stable/user_guide/indexing.html#returning-a-view-versus-a-copy\n",
      "  data['Signal'][long_window:] = np.where(\n"
     ]
    },
    {
     "name": "stdout",
     "output_type": "stream",
     "text": [
      "\n",
      "--- Performance Comparison ---\n",
      "Metric                     SMAC Strategy          Buy & Hold\n",
      "CAGR                               2.09%               8.78%\n",
      "Volatility                        16.76%              29.41%\n",
      "Sharpe Ratio                      -9.12%              26.13%\n",
      "Sortino Ratio                     -8.55%              36.10%\n",
      "Max Drawdown                     -22.42%             -33.43%\n"
     ]
    }
   ],
   "source": [
    "import pandas as pd\n",
    "import numpy as np\n",
    "import matplotlib.pyplot as plt\n",
    "from openbb import obb\n",
    "\n",
    "# Set your API key\n",
    "obb.user.credentials.fmp_api_key = \"JI198J9ADpdcD2yJ4kd8Zl0RAP1goenk\"\n",
    "\n",
    "# Parameters\n",
    "symbol = \"AAPL\"\n",
    "start_date = \"2024-01-01\"\n",
    "short_window = 20\n",
    "long_window = 50\n",
    "risk_free_rate = 0.05\n",
    "\n",
    "# Fetch data\n",
    "data = obb.equity.price.historical(\n",
    "    symbol=symbol,\n",
    "    start_date=start_date,\n",
    "    provider=\"fmp\"\n",
    ").to_df()\n",
    "\n",
    "# Preprocess\n",
    "data.index = pd.to_datetime(data.index)\n",
    "data = data.sort_index()\n",
    "price_col = 'close'\n",
    "\n",
    "# SMAC logic\n",
    "data['Short MA'] = data[price_col].rolling(window=short_window).mean()\n",
    "data['Long MA'] = data[price_col].rolling(window=long_window).mean()\n",
    "data['Signal'] = 0\n",
    "data['Signal'][long_window:] = np.where(\n",
    "    data['Short MA'][long_window:] > data['Long MA'][long_window:], 1, 0\n",
    ")\n",
    "data['Position'] = data['Signal'].diff()\n",
    "\n",
    "# Returns\n",
    "data['Daily Return'] = data[price_col].pct_change()\n",
    "data['Strategy Return'] = data['Signal'].shift(1) * data['Daily Return']\n",
    "data['Cumulative Market'] = (1 + data['Daily Return']).cumprod()\n",
    "data['Cumulative Strategy'] = (1 + data['Strategy Return']).cumprod()\n",
    "\n",
    "# === Performance Metrics Function ===\n",
    "def compute_metrics(returns, cumulative_returns):\n",
    "    ann_factor = 252\n",
    "    cagr = cumulative_returns.iloc[-1] ** (ann_factor / len(returns)) - 1\n",
    "    volatility = returns.std() * np.sqrt(ann_factor)\n",
    "    sharpe = ((returns.mean() * ann_factor) - risk_free_rate) / (returns.std() * np.sqrt(ann_factor))\n",
    "    downside_std = returns[returns < 0].std() * np.sqrt(ann_factor)\n",
    "    sortino = ((returns.mean() * ann_factor) - risk_free_rate) / downside_std if downside_std != 0 else np.nan\n",
    "    roll_max = cumulative_returns.cummax()\n",
    "    drawdown = cumulative_returns / roll_max - 1\n",
    "    max_drawdown = drawdown.min()\n",
    "    return {\n",
    "        'CAGR': cagr,\n",
    "        'Volatility': volatility,\n",
    "        'Sharpe Ratio': sharpe,\n",
    "        'Sortino Ratio': sortino,\n",
    "        'Max Drawdown': max_drawdown\n",
    "    }\n",
    "\n",
    "# Compute metrics\n",
    "sma_metrics = compute_metrics(data['Strategy Return'].dropna(), data['Cumulative Strategy'].dropna())\n",
    "hold_metrics = compute_metrics(data['Daily Return'].dropna(), data['Cumulative Market'].dropna())\n",
    "\n",
    "# === Print Comparison ===\n",
    "print(\"\\n--- Performance Comparison ---\")\n",
    "print(f\"{'Metric':<20}{'SMAC Strategy':>20}{'Buy & Hold':>20}\")\n",
    "for key in sma_metrics:\n",
    "    print(f\"{key:<20}{sma_metrics[key]:>20.2%}{hold_metrics[key]:>20.2%}\")\n",
    "\n",
    "# === Plot ===\n",
    "plt.figure(figsize=(14, 7))\n",
    "plt.plot(data.index, data['Cumulative Market'], label='Buy & Hold', linestyle='-', color='gray')\n",
    "plt.plot(data.index, data['Cumulative Strategy'], label='SMAC Strategy', linestyle='--', color='blue')\n",
    "plt.title(f\"{symbol} | SMAC vs Buy & Hold\")\n",
    "plt.xlabel(\"Date\")\n",
    "plt.ylabel(\"Cumulative Return\")\n",
    "plt.legend()\n",
    "plt.grid(True)\n",
    "plt.tight_layout()\n",
    "plt.show()\n"
   ]
  }
 ],
 "metadata": {
  "kernelspec": {
   "display_name": "Python 3",
   "language": "python",
   "name": "python3"
  },
  "language_info": {
   "codemirror_mode": {
    "name": "ipython",
    "version": 3
   },
   "file_extension": ".py",
   "mimetype": "text/x-python",
   "name": "python",
   "nbconvert_exporter": "python",
   "pygments_lexer": "ipython3",
   "version": "3.9.6"
  }
 },
 "nbformat": 4,
 "nbformat_minor": 5
}
